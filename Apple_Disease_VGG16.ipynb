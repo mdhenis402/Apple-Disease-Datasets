{
  "nbformat": 4,
  "nbformat_minor": 0,
  "metadata": {
    "colab": {
      "name": "Apple-Disease-VGG16.ipynb",
      "provenance": [],
      "collapsed_sections": [],
      "authorship_tag": "ABX9TyMJsYHZjrXxThPTQM3Wcc9A",
      "include_colab_link": true
    },
    "kernelspec": {
      "name": "python3",
      "display_name": "Python 3"
    },
    "language_info": {
      "name": "python"
    },
    "accelerator": "GPU"
  },
  "cells": [
    {
      "cell_type": "markdown",
      "metadata": {
        "id": "view-in-github",
        "colab_type": "text"
      },
      "source": [
        "<a href=\"https://colab.research.google.com/github/mdhenis402/Apple-Disease-Datasets/blob/main/Apple_Disease_VGG16.ipynb\" target=\"_parent\"><img src=\"https://colab.research.google.com/assets/colab-badge.svg\" alt=\"Open In Colab\"/></a>"
      ]
    },
    {
      "cell_type": "markdown",
      "source": [
        "Download Datasets"
      ],
      "metadata": {
        "id": "X0dvexFdnf9V"
      }
    },
    {
      "cell_type": "code",
      "execution_count": 43,
      "metadata": {
        "id": "lyiKOdcek_3B",
        "colab": {
          "base_uri": "https://localhost:8080/"
        },
        "outputId": "ec367fa6-62d8-4697-8ec5-9d1c1eebee8f"
      },
      "outputs": [
        {
          "output_type": "stream",
          "name": "stdout",
          "text": [
            "--2021-12-31 06:47:50--  https://github.com/mdhenis402/Apple-Disease-Datasets/raw/main/Datasets.zip\n",
            "Resolving github.com (github.com)... 140.82.121.3\n",
            "Connecting to github.com (github.com)|140.82.121.3|:443... connected.\n",
            "HTTP request sent, awaiting response... 302 Found\n",
            "Location: https://raw.githubusercontent.com/mdhenis402/Apple-Disease-Datasets/main/Datasets.zip [following]\n",
            "--2021-12-31 06:47:50--  https://raw.githubusercontent.com/mdhenis402/Apple-Disease-Datasets/main/Datasets.zip\n",
            "Resolving raw.githubusercontent.com (raw.githubusercontent.com)... 185.199.108.133, 185.199.109.133, 185.199.110.133, ...\n",
            "Connecting to raw.githubusercontent.com (raw.githubusercontent.com)|185.199.108.133|:443... connected.\n",
            "HTTP request sent, awaiting response... 200 OK\n",
            "Length: 57746302 (55M) [application/zip]\n",
            "Saving to: ‘/tmp/Datasets.zip’\n",
            "\n",
            "/tmp/Datasets.zip   100%[===================>]  55.07M   119MB/s    in 0.5s    \n",
            "\n",
            "2021-12-31 06:47:50 (119 MB/s) - ‘/tmp/Datasets.zip’ saved [57746302/57746302]\n",
            "\n"
          ]
        }
      ],
      "source": [
        "# Download dataset\n",
        "!wget --no-check-certificate \\\n",
        "    https://github.com/mdhenis402/Apple-Disease-Datasets/raw/main/Datasets.zip \\\n",
        "    -O /tmp/Datasets.zip"
      ]
    },
    {
      "cell_type": "code",
      "source": [
        "# Ekstrak dataset\n",
        "\n",
        "import os\n",
        "import zipfile\n",
        "\n",
        "local_zip = '/tmp/Datasets.zip'\n",
        "zip_ref = zipfile.ZipFile(local_zip, 'r')\n",
        "zip_ref.extractall('/tmp')\n",
        "zip_ref.close()"
      ],
      "metadata": {
        "id": "Zd9V63kfnj-r"
      },
      "execution_count": 44,
      "outputs": []
    },
    {
      "cell_type": "code",
      "source": [
        "base_dir = '/tmp/Datasets'\n",
        "\n",
        "train_dir = os.path.join(base_dir, 'Train')\n",
        "val_dir = os.path.join(base_dir, 'Validation')\n",
        "test_dir = os.path.join(base_dir, 'Testing')"
      ],
      "metadata": {
        "id": "mcamlaPynvJt"
      },
      "execution_count": 45,
      "outputs": []
    },
    {
      "cell_type": "markdown",
      "source": [
        "Validasi Dataset"
      ],
      "metadata": {
        "id": "QkInoMxdn9aG"
      }
    },
    {
      "cell_type": "code",
      "source": [
        "scab_train_path = train_dir + '/Apple___Apple_scab'\n",
        "rot_train_path = train_dir + '/Apple___Black_rot'\n",
        "rust_train_path = train_dir + '/Apple___Cedar_apple_rust'\n",
        "healthy_train_path = train_dir + '/Apple___healthy'\n",
        "\n",
        "scab_val_path = val_dir + '/Apple___Apple_scab'\n",
        "rot_val_path = val_dir + '/Apple___Black_rot'\n",
        "rust_val_path = val_dir + '/Apple___Cedar_apple_rust'\n",
        "healthy_val_path = val_dir + '/Apple___healthy'\n",
        "\n",
        "scab_test_path = test_dir + '/Apple___Apple_scab'\n",
        "rot_test_path = test_dir + '/Apple___Black_rot'\n",
        "rust_test_path = test_dir + '/Apple___Ceddar_apple_rust'\n",
        "healthy_test_path = test_dir + '/Apple___healthy'\n",
        "\n",
        "scab_len_train = len(os.listdir(scab_train_path))\n",
        "rot_len_train = len(os.listdir(rot_train_path))\n",
        "rust_len_train = len(os.listdir(rust_train_path))\n",
        "healthy_len_train = len(os.listdir(healthy_train_path))\n",
        "\n",
        "scab_len_val = len(os.listdir(scab_val_path))\n",
        "rot_len_val = len(os.listdir(rot_val_path))\n",
        "rust_len_val = len(os.listdir(rust_val_path))\n",
        "healthy_len_val = len(os.listdir(healthy_val_path))\n",
        "\n",
        "scab_len_test = len(os.listdir(scab_test_path))\n",
        "rot_len_test = len(os.listdir(rot_test_path))\n",
        "rust_len_test = len(os.listdir(rust_test_path))\n",
        "healthy_len_test = len(os.listdir(healthy_test_path))\n",
        "\n",
        "print(\"jumlah dataset Training : \", scab_len_train + rot_len_train + rust_len_train + healthy_len_train)\n",
        "print(\"jumlah dataset validasi : \", scab_len_val + rot_len_val + rust_len_val + healthy_len_val)\n",
        "print(\"jumlah dataset validasi : \", scab_len_test + rot_len_test + rust_len_test + healthy_len_test)\n",
        "print(\"\\n\\n\")\n",
        "print(\"jumlah train kelas Scab : \", scab_len_train)\n",
        "print(\"jumlah train kelas Rot : \", rot_len_train)\n",
        "print(\"jumlah train kelas Rust : \", rust_len_train)\n",
        "print(\"jumlah train kelas Healthy : \", healthy_len_train)\n",
        "print(\" \")\n",
        "print(\"jumlah validasi kelas Scab : \", scab_len_val)\n",
        "print(\"jumlah validasi kelas Rot : \", rot_len_val)\n",
        "print(\"jumlah validasi kelas Rust : \", rust_len_val)\n",
        "print(\"jumlah validasi kelas Healthy : \", healthy_len_val)\n",
        "print(\" \")\n",
        "print(\"jumlah testing kelas Scab : \", scab_len_test)\n",
        "print(\"jumlah testing kelas Rot : \", rot_len_test)\n",
        "print(\"jumlah testing kelas Rust : \", rust_len_test)\n",
        "print(\"jumlah testing kelas Healthy : \", healthy_len_test)"
      ],
      "metadata": {
        "id": "oFjgF0IVoABW",
        "colab": {
          "base_uri": "https://localhost:8080/"
        },
        "outputId": "dce2fb36-c6ef-40bc-efb3-9dcc146897f8"
      },
      "execution_count": 46,
      "outputs": [
        {
          "output_type": "stream",
          "name": "stdout",
          "text": [
            "jumlah dataset Training :  3200\n",
            "jumlah dataset validasi :  800\n",
            "jumlah dataset validasi :  16\n",
            "\n",
            "\n",
            "\n",
            "jumlah train kelas Scab :  800\n",
            "jumlah train kelas Rot :  800\n",
            "jumlah train kelas Rust :  800\n",
            "jumlah train kelas Healthy :  800\n",
            " \n",
            "jumlah validasi kelas Scab :  200\n",
            "jumlah validasi kelas Rot :  200\n",
            "jumlah validasi kelas Rust :  200\n",
            "jumlah validasi kelas Healthy :  200\n",
            " \n",
            "jumlah testing kelas Scab :  4\n",
            "jumlah testing kelas Rot :  4\n",
            "jumlah testing kelas Rust :  4\n",
            "jumlah testing kelas Healthy :  4\n"
          ]
        }
      ]
    },
    {
      "cell_type": "code",
      "source": [
        "import tensorflow as tf\n",
        "from tensorflow.keras.optimizers import Adam\n",
        "from tensorflow.keras.preprocessing.image import ImageDataGenerator"
      ],
      "metadata": {
        "id": "tQHlaVzyoF9a"
      },
      "execution_count": 47,
      "outputs": []
    },
    {
      "cell_type": "markdown",
      "source": [
        "Augmentasi"
      ],
      "metadata": {
        "id": "A_aws41loHH_"
      }
    },
    {
      "cell_type": "code",
      "source": [
        "train_datagen = ImageDataGenerator(\n",
        "      rescale=1./255,\n",
        "      rotation_range=40,\n",
        "      width_shift_range=0.2,\n",
        "      height_shift_range=0.2,\n",
        "      shear_range=0.2,\n",
        "      zoom_range=0.2,\n",
        "      horizontal_flip=True,\n",
        "      fill_mode='nearest')\n",
        "\n",
        "test_datagen = ImageDataGenerator(rescale=1./255)\n",
        "\n",
        "train_generator = train_datagen.flow_from_directory(\n",
        "        train_dir,\n",
        "        target_size=(224, 224),\n",
        "        batch_size=32,\n",
        "        class_mode='categorical')\n",
        "\n",
        "validation_generator = test_datagen.flow_from_directory(\n",
        "        val_dir,\n",
        "        target_size=(224, 224),\n",
        "        batch_size=32,\n",
        "        class_mode='categorical')"
      ],
      "metadata": {
        "id": "_CYyKNCjoJPa",
        "colab": {
          "base_uri": "https://localhost:8080/"
        },
        "outputId": "0a83ef6c-6437-48b4-bc13-a92d87b2b08a"
      },
      "execution_count": 48,
      "outputs": [
        {
          "output_type": "stream",
          "name": "stdout",
          "text": [
            "Found 3200 images belonging to 4 classes.\n",
            "Found 800 images belonging to 4 classes.\n"
          ]
        }
      ]
    },
    {
      "cell_type": "markdown",
      "source": [
        "Arsitektur Model"
      ],
      "metadata": {
        "id": "HMShdzDnoqLW"
      }
    },
    {
      "cell_type": "code",
      "source": [
        "'''\n",
        "Import Library yang dibutuhkan\n",
        "'''\n",
        "\n",
        "from tensorflow.keras.models import Sequential\n",
        "from tensorflow.keras.layers import InputLayer, Dense, Flatten,Dropout, BatchNormalization\n",
        "import tensorflow as tf\n",
        "from tensorflow.keras.models import Model\n",
        "from tensorflow.keras.optimizers import Adam\n",
        "from tensorflow.keras.callbacks import EarlyStopping, ModelCheckpoint"
      ],
      "metadata": {
        "id": "2nIcTHw_ouCP"
      },
      "execution_count": 49,
      "outputs": []
    },
    {
      "cell_type": "code",
      "source": [
        "'''\n",
        "definisikan dan setting callback untuk :\n",
        "1. memantau performa model\n",
        "2. melakukan save model terbaik menggunakan model checkpoint\n",
        "3. memberhentikan pelatihan ketika tidak memnuhi syarat dalam parameter earlystopping\n",
        "'''\n",
        "\n",
        "callbacks = EarlyStopping(monitor='val_loss', patience=15, verbose=1, mode='auto')        \n",
        "directory_to_save_best_model_file = '/content/drive/MyDrive/Colab Notebooks/Modul Kecerdasan Buatan /model_drop_batch_weight_from_callback_2.h5'\n",
        "best_model = ModelCheckpoint(directory_to_save_best_model_file, monitor='val_accuracy', verbose = 1, save_best_only = True)"
      ],
      "metadata": {
        "id": "4BsXL7H7owhW"
      },
      "execution_count": 50,
      "outputs": []
    },
    {
      "cell_type": "code",
      "source": [
        "'''\n",
        "definisikan pretrained model yang ingin digunakan\n",
        "'''\n",
        "\n",
        "VGG16_base = tf.keras.applications.VGG16(include_top=False, weights='imagenet', #include_top = false , berarti fully connected layer akan dipidah dari arsitektur\n",
        "                                                 input_tensor=None, input_shape=(224, 224,3))"
      ],
      "metadata": {
        "id": "6TjACsRZo_Ej"
      },
      "execution_count": 51,
      "outputs": []
    },
    {
      "cell_type": "code",
      "source": [
        "'''\n",
        "melakukan setting bahwa model pretrained tidak akan dilatih ulang\n",
        "'''\n",
        "\n",
        "VGG16_base.trainable = False"
      ],
      "metadata": {
        "id": "mkyz_nWVpBZq"
      },
      "execution_count": 52,
      "outputs": []
    },
    {
      "cell_type": "code",
      "source": [
        "'''\n",
        "mendefinisikan layer pada bagian fully connected layer\n",
        "'''\n",
        "\n",
        "print('Adding new layers')\n",
        "output = VGG16_base.get_layer(index = -1).output  \n",
        "output = Flatten()(output)\n",
        "output = Dense(128,activation = \"relu\")(output)\n",
        "output = BatchNormalization()(output)\n",
        "output = Dropout(0.5)(output)\n",
        "output = Dense(128,activation = \"relu\")(output)\n",
        "output = BatchNormalization()(output)\n",
        "output = Dropout(0.5)(output)\n",
        "output = Dense(4, activation='softmax')(output) \n",
        "print('New layers Finishing Added!!!!')"
      ],
      "metadata": {
        "id": "pmhP7qX-pDpT",
        "colab": {
          "base_uri": "https://localhost:8080/"
        },
        "outputId": "121ba6b7-ce0a-40a5-c5e2-b4ee42a39b8a"
      },
      "execution_count": 53,
      "outputs": [
        {
          "output_type": "stream",
          "name": "stdout",
          "text": [
            "Adding new layers\n",
            "New layers Finishing Added!!!!\n"
          ]
        }
      ]
    },
    {
      "cell_type": "code",
      "source": [
        "VGG16_model = Model(VGG16_base.input, output)\n",
        "\n",
        "VGG16_model.summary()"
      ],
      "metadata": {
        "id": "54H2TI29pI9G",
        "colab": {
          "base_uri": "https://localhost:8080/"
        },
        "outputId": "737474e4-03ba-4bd1-eed8-9b18bbad4869"
      },
      "execution_count": 54,
      "outputs": [
        {
          "output_type": "stream",
          "name": "stdout",
          "text": [
            "Model: \"model_2\"\n",
            "_________________________________________________________________\n",
            " Layer (type)                Output Shape              Param #   \n",
            "=================================================================\n",
            " input_3 (InputLayer)        [(None, 224, 224, 3)]     0         \n",
            "                                                                 \n",
            " block1_conv1 (Conv2D)       (None, 224, 224, 64)      1792      \n",
            "                                                                 \n",
            " block1_conv2 (Conv2D)       (None, 224, 224, 64)      36928     \n",
            "                                                                 \n",
            " block1_pool (MaxPooling2D)  (None, 112, 112, 64)      0         \n",
            "                                                                 \n",
            " block2_conv1 (Conv2D)       (None, 112, 112, 128)     73856     \n",
            "                                                                 \n",
            " block2_conv2 (Conv2D)       (None, 112, 112, 128)     147584    \n",
            "                                                                 \n",
            " block2_pool (MaxPooling2D)  (None, 56, 56, 128)       0         \n",
            "                                                                 \n",
            " block3_conv1 (Conv2D)       (None, 56, 56, 256)       295168    \n",
            "                                                                 \n",
            " block3_conv2 (Conv2D)       (None, 56, 56, 256)       590080    \n",
            "                                                                 \n",
            " block3_conv3 (Conv2D)       (None, 56, 56, 256)       590080    \n",
            "                                                                 \n",
            " block3_pool (MaxPooling2D)  (None, 28, 28, 256)       0         \n",
            "                                                                 \n",
            " block4_conv1 (Conv2D)       (None, 28, 28, 512)       1180160   \n",
            "                                                                 \n",
            " block4_conv2 (Conv2D)       (None, 28, 28, 512)       2359808   \n",
            "                                                                 \n",
            " block4_conv3 (Conv2D)       (None, 28, 28, 512)       2359808   \n",
            "                                                                 \n",
            " block4_pool (MaxPooling2D)  (None, 14, 14, 512)       0         \n",
            "                                                                 \n",
            " block5_conv1 (Conv2D)       (None, 14, 14, 512)       2359808   \n",
            "                                                                 \n",
            " block5_conv2 (Conv2D)       (None, 14, 14, 512)       2359808   \n",
            "                                                                 \n",
            " block5_conv3 (Conv2D)       (None, 14, 14, 512)       2359808   \n",
            "                                                                 \n",
            " block5_pool (MaxPooling2D)  (None, 7, 7, 512)         0         \n",
            "                                                                 \n",
            " flatten_2 (Flatten)         (None, 25088)             0         \n",
            "                                                                 \n",
            " dense_6 (Dense)             (None, 128)               3211392   \n",
            "                                                                 \n",
            " batch_normalization_4 (Batc  (None, 128)              512       \n",
            " hNormalization)                                                 \n",
            "                                                                 \n",
            " dropout_4 (Dropout)         (None, 128)               0         \n",
            "                                                                 \n",
            " dense_7 (Dense)             (None, 128)               16512     \n",
            "                                                                 \n",
            " batch_normalization_5 (Batc  (None, 128)              512       \n",
            " hNormalization)                                                 \n",
            "                                                                 \n",
            " dropout_5 (Dropout)         (None, 128)               0         \n",
            "                                                                 \n",
            " dense_8 (Dense)             (None, 4)                 516       \n",
            "                                                                 \n",
            "=================================================================\n",
            "Total params: 17,944,132\n",
            "Trainable params: 3,228,932\n",
            "Non-trainable params: 14,715,200\n",
            "_________________________________________________________________\n"
          ]
        }
      ]
    },
    {
      "cell_type": "code",
      "source": [
        "VGG16_model.compile(optimizer=tf.keras.optimizers.Adam(learning_rate=0.0001), loss='categorical_crossentropy', \n",
        "                        metrics =['accuracy'])"
      ],
      "metadata": {
        "id": "qjg6eDa3pKgn"
      },
      "execution_count": 55,
      "outputs": []
    },
    {
      "cell_type": "code",
      "source": [
        "history = VGG16_model.fit(\n",
        "      train_generator,\n",
        "      steps_per_epoch=100,  # images = batch_size * steps\n",
        "      epochs=50,\n",
        "      validation_data=validation_generator,\n",
        "      validation_steps=6,  #  images = batch_size * steps\n",
        "      callbacks = [callbacks, best_model])"
      ],
      "metadata": {
        "id": "RMv-D_D3pPzy",
        "colab": {
          "base_uri": "https://localhost:8080/"
        },
        "outputId": "0fab73f3-f6de-4418-ed6d-07bfe798b4c3"
      },
      "execution_count": 56,
      "outputs": [
        {
          "output_type": "stream",
          "name": "stdout",
          "text": [
            "Epoch 1/50\n",
            "100/100 [==============================] - ETA: 0s - loss: 1.3102 - accuracy: 0.5419\n",
            "Epoch 00001: val_accuracy improved from -inf to 0.66146, saving model to /content/drive/MyDrive/Colab Notebooks/Modul Kecerdasan Buatan /model_drop_batch_weight_from_callback_2.h5\n",
            "100/100 [==============================] - 58s 555ms/step - loss: 1.3102 - accuracy: 0.5419 - val_loss: 0.7930 - val_accuracy: 0.6615\n",
            "Epoch 2/50\n",
            "100/100 [==============================] - ETA: 0s - loss: 0.8040 - accuracy: 0.6972\n",
            "Epoch 00002: val_accuracy improved from 0.66146 to 0.88021, saving model to /content/drive/MyDrive/Colab Notebooks/Modul Kecerdasan Buatan /model_drop_batch_weight_from_callback_2.h5\n",
            "100/100 [==============================] - 53s 524ms/step - loss: 0.8040 - accuracy: 0.6972 - val_loss: 0.3853 - val_accuracy: 0.8802\n",
            "Epoch 3/50\n",
            "100/100 [==============================] - ETA: 0s - loss: 0.6274 - accuracy: 0.7772\n",
            "Epoch 00003: val_accuracy improved from 0.88021 to 0.91146, saving model to /content/drive/MyDrive/Colab Notebooks/Modul Kecerdasan Buatan /model_drop_batch_weight_from_callback_2.h5\n",
            "100/100 [==============================] - 50s 501ms/step - loss: 0.6274 - accuracy: 0.7772 - val_loss: 0.2496 - val_accuracy: 0.9115\n",
            "Epoch 4/50\n",
            "100/100 [==============================] - ETA: 0s - loss: 0.5569 - accuracy: 0.7991\n",
            "Epoch 00004: val_accuracy improved from 0.91146 to 0.96354, saving model to /content/drive/MyDrive/Colab Notebooks/Modul Kecerdasan Buatan /model_drop_batch_weight_from_callback_2.h5\n",
            "100/100 [==============================] - 50s 499ms/step - loss: 0.5569 - accuracy: 0.7991 - val_loss: 0.1255 - val_accuracy: 0.9635\n",
            "Epoch 5/50\n",
            "100/100 [==============================] - ETA: 0s - loss: 0.4512 - accuracy: 0.8263\n",
            "Epoch 00005: val_accuracy did not improve from 0.96354\n",
            "100/100 [==============================] - 50s 500ms/step - loss: 0.4512 - accuracy: 0.8263 - val_loss: 0.2623 - val_accuracy: 0.9062\n",
            "Epoch 6/50\n",
            "100/100 [==============================] - ETA: 0s - loss: 0.4816 - accuracy: 0.8209\n",
            "Epoch 00006: val_accuracy did not improve from 0.96354\n",
            "100/100 [==============================] - 50s 496ms/step - loss: 0.4816 - accuracy: 0.8209 - val_loss: 0.1460 - val_accuracy: 0.9479\n",
            "Epoch 7/50\n",
            "100/100 [==============================] - ETA: 0s - loss: 0.3948 - accuracy: 0.8559\n",
            "Epoch 00007: val_accuracy improved from 0.96354 to 0.97917, saving model to /content/drive/MyDrive/Colab Notebooks/Modul Kecerdasan Buatan /model_drop_batch_weight_from_callback_2.h5\n",
            "100/100 [==============================] - 50s 497ms/step - loss: 0.3948 - accuracy: 0.8559 - val_loss: 0.0978 - val_accuracy: 0.9792\n",
            "Epoch 8/50\n",
            "100/100 [==============================] - ETA: 0s - loss: 0.4019 - accuracy: 0.8628\n",
            "Epoch 00008: val_accuracy did not improve from 0.97917\n",
            "100/100 [==============================] - 50s 497ms/step - loss: 0.4019 - accuracy: 0.8628 - val_loss: 0.1054 - val_accuracy: 0.9688\n",
            "Epoch 9/50\n",
            "100/100 [==============================] - ETA: 0s - loss: 0.3605 - accuracy: 0.8669\n",
            "Epoch 00009: val_accuracy did not improve from 0.97917\n",
            "100/100 [==============================] - 50s 494ms/step - loss: 0.3605 - accuracy: 0.8669 - val_loss: 0.2224 - val_accuracy: 0.9115\n",
            "Epoch 10/50\n",
            "100/100 [==============================] - ETA: 0s - loss: 0.3279 - accuracy: 0.8791\n",
            "Epoch 00010: val_accuracy did not improve from 0.97917\n",
            "100/100 [==============================] - 50s 494ms/step - loss: 0.3279 - accuracy: 0.8791 - val_loss: 0.0936 - val_accuracy: 0.9635\n",
            "Epoch 11/50\n",
            "100/100 [==============================] - ETA: 0s - loss: 0.3213 - accuracy: 0.8772\n",
            "Epoch 00011: val_accuracy did not improve from 0.97917\n",
            "100/100 [==============================] - 49s 493ms/step - loss: 0.3213 - accuracy: 0.8772 - val_loss: 0.0809 - val_accuracy: 0.9792\n",
            "Epoch 12/50\n",
            "100/100 [==============================] - ETA: 0s - loss: 0.3128 - accuracy: 0.8863\n",
            "Epoch 00012: val_accuracy did not improve from 0.97917\n",
            "100/100 [==============================] - 49s 492ms/step - loss: 0.3128 - accuracy: 0.8863 - val_loss: 0.1507 - val_accuracy: 0.9531\n",
            "Epoch 13/50\n",
            "100/100 [==============================] - ETA: 0s - loss: 0.3214 - accuracy: 0.8841\n",
            "Epoch 00013: val_accuracy did not improve from 0.97917\n",
            "100/100 [==============================] - 49s 493ms/step - loss: 0.3214 - accuracy: 0.8841 - val_loss: 0.0692 - val_accuracy: 0.9740\n",
            "Epoch 14/50\n",
            "100/100 [==============================] - ETA: 0s - loss: 0.2958 - accuracy: 0.8888\n",
            "Epoch 00014: val_accuracy did not improve from 0.97917\n",
            "100/100 [==============================] - 49s 492ms/step - loss: 0.2958 - accuracy: 0.8888 - val_loss: 0.0757 - val_accuracy: 0.9688\n",
            "Epoch 15/50\n",
            "100/100 [==============================] - ETA: 0s - loss: 0.2685 - accuracy: 0.9053\n",
            "Epoch 00015: val_accuracy did not improve from 0.97917\n",
            "100/100 [==============================] - 50s 499ms/step - loss: 0.2685 - accuracy: 0.9053 - val_loss: 0.1158 - val_accuracy: 0.9583\n",
            "Epoch 16/50\n",
            "100/100 [==============================] - ETA: 0s - loss: 0.2717 - accuracy: 0.9013\n",
            "Epoch 00016: val_accuracy did not improve from 0.97917\n",
            "100/100 [==============================] - 50s 496ms/step - loss: 0.2717 - accuracy: 0.9013 - val_loss: 0.1459 - val_accuracy: 0.9375\n",
            "Epoch 17/50\n",
            "100/100 [==============================] - ETA: 0s - loss: 0.2740 - accuracy: 0.9031\n",
            "Epoch 00017: val_accuracy did not improve from 0.97917\n",
            "100/100 [==============================] - 49s 492ms/step - loss: 0.2740 - accuracy: 0.9031 - val_loss: 0.1004 - val_accuracy: 0.9635\n",
            "Epoch 18/50\n",
            "100/100 [==============================] - ETA: 0s - loss: 0.2580 - accuracy: 0.9031\n",
            "Epoch 00018: val_accuracy did not improve from 0.97917\n",
            "100/100 [==============================] - 49s 491ms/step - loss: 0.2580 - accuracy: 0.9031 - val_loss: 0.1052 - val_accuracy: 0.9688\n",
            "Epoch 19/50\n",
            "100/100 [==============================] - ETA: 0s - loss: 0.2501 - accuracy: 0.9134\n",
            "Epoch 00019: val_accuracy improved from 0.97917 to 0.98958, saving model to /content/drive/MyDrive/Colab Notebooks/Modul Kecerdasan Buatan /model_drop_batch_weight_from_callback_2.h5\n",
            "100/100 [==============================] - 50s 494ms/step - loss: 0.2501 - accuracy: 0.9134 - val_loss: 0.0287 - val_accuracy: 0.9896\n",
            "Epoch 20/50\n",
            "100/100 [==============================] - ETA: 0s - loss: 0.2398 - accuracy: 0.9100\n",
            "Epoch 00020: val_accuracy did not improve from 0.98958\n",
            "100/100 [==============================] - 49s 492ms/step - loss: 0.2398 - accuracy: 0.9100 - val_loss: 0.0769 - val_accuracy: 0.9792\n",
            "Epoch 21/50\n",
            "100/100 [==============================] - ETA: 0s - loss: 0.2382 - accuracy: 0.9112\n",
            "Epoch 00021: val_accuracy did not improve from 0.98958\n",
            "100/100 [==============================] - 50s 494ms/step - loss: 0.2382 - accuracy: 0.9112 - val_loss: 0.2624 - val_accuracy: 0.9062\n",
            "Epoch 22/50\n",
            "100/100 [==============================] - ETA: 0s - loss: 0.2374 - accuracy: 0.9162\n",
            "Epoch 00022: val_accuracy did not improve from 0.98958\n",
            "100/100 [==============================] - 50s 495ms/step - loss: 0.2374 - accuracy: 0.9162 - val_loss: 0.0691 - val_accuracy: 0.9688\n",
            "Epoch 23/50\n",
            "100/100 [==============================] - ETA: 0s - loss: 0.2296 - accuracy: 0.9169\n",
            "Epoch 00023: val_accuracy did not improve from 0.98958\n",
            "100/100 [==============================] - 50s 497ms/step - loss: 0.2296 - accuracy: 0.9169 - val_loss: 0.1164 - val_accuracy: 0.9688\n",
            "Epoch 24/50\n",
            "100/100 [==============================] - ETA: 0s - loss: 0.2081 - accuracy: 0.9237\n",
            "Epoch 00024: val_accuracy did not improve from 0.98958\n",
            "100/100 [==============================] - 50s 496ms/step - loss: 0.2081 - accuracy: 0.9237 - val_loss: 0.1104 - val_accuracy: 0.9531\n",
            "Epoch 25/50\n",
            "100/100 [==============================] - ETA: 0s - loss: 0.2220 - accuracy: 0.9219\n",
            "Epoch 00025: val_accuracy did not improve from 0.98958\n",
            "100/100 [==============================] - 49s 493ms/step - loss: 0.2220 - accuracy: 0.9219 - val_loss: 0.0780 - val_accuracy: 0.9740\n",
            "Epoch 26/50\n",
            "100/100 [==============================] - ETA: 0s - loss: 0.2156 - accuracy: 0.9259\n",
            "Epoch 00026: val_accuracy did not improve from 0.98958\n",
            "100/100 [==============================] - 49s 493ms/step - loss: 0.2156 - accuracy: 0.9259 - val_loss: 0.0539 - val_accuracy: 0.9792\n",
            "Epoch 27/50\n",
            "100/100 [==============================] - ETA: 0s - loss: 0.2145 - accuracy: 0.9216\n",
            "Epoch 00027: val_accuracy did not improve from 0.98958\n",
            "100/100 [==============================] - 49s 493ms/step - loss: 0.2145 - accuracy: 0.9216 - val_loss: 0.0433 - val_accuracy: 0.9844\n",
            "Epoch 28/50\n",
            "100/100 [==============================] - ETA: 0s - loss: 0.2354 - accuracy: 0.9159\n",
            "Epoch 00028: val_accuracy did not improve from 0.98958\n",
            "100/100 [==============================] - 49s 491ms/step - loss: 0.2354 - accuracy: 0.9159 - val_loss: 0.0466 - val_accuracy: 0.9792\n",
            "Epoch 29/50\n",
            "100/100 [==============================] - ETA: 0s - loss: 0.2250 - accuracy: 0.9203\n",
            "Epoch 00029: val_accuracy did not improve from 0.98958\n",
            "100/100 [==============================] - 49s 492ms/step - loss: 0.2250 - accuracy: 0.9203 - val_loss: 0.0681 - val_accuracy: 0.9740\n",
            "Epoch 30/50\n",
            "100/100 [==============================] - ETA: 0s - loss: 0.2121 - accuracy: 0.9275\n",
            "Epoch 00030: val_accuracy improved from 0.98958 to 0.99479, saving model to /content/drive/MyDrive/Colab Notebooks/Modul Kecerdasan Buatan /model_drop_batch_weight_from_callback_2.h5\n",
            "100/100 [==============================] - 50s 494ms/step - loss: 0.2121 - accuracy: 0.9275 - val_loss: 0.0301 - val_accuracy: 0.9948\n",
            "Epoch 31/50\n",
            "100/100 [==============================] - ETA: 0s - loss: 0.2024 - accuracy: 0.9287\n",
            "Epoch 00031: val_accuracy did not improve from 0.99479\n",
            "100/100 [==============================] - 49s 490ms/step - loss: 0.2024 - accuracy: 0.9287 - val_loss: 0.0509 - val_accuracy: 0.9844\n",
            "Epoch 32/50\n",
            "100/100 [==============================] - ETA: 0s - loss: 0.1989 - accuracy: 0.9300\n",
            "Epoch 00032: val_accuracy did not improve from 0.99479\n",
            "100/100 [==============================] - 49s 489ms/step - loss: 0.1989 - accuracy: 0.9300 - val_loss: 0.0483 - val_accuracy: 0.9792\n",
            "Epoch 33/50\n",
            "100/100 [==============================] - ETA: 0s - loss: 0.1803 - accuracy: 0.9378\n",
            "Epoch 00033: val_accuracy did not improve from 0.99479\n",
            "100/100 [==============================] - 49s 492ms/step - loss: 0.1803 - accuracy: 0.9378 - val_loss: 0.0540 - val_accuracy: 0.9740\n",
            "Epoch 34/50\n",
            "100/100 [==============================] - ETA: 0s - loss: 0.1939 - accuracy: 0.9291\n",
            "Epoch 00034: val_accuracy did not improve from 0.99479\n",
            "100/100 [==============================] - 49s 490ms/step - loss: 0.1939 - accuracy: 0.9291 - val_loss: 0.1189 - val_accuracy: 0.9635\n",
            "Epoch 00034: early stopping\n"
          ]
        }
      ]
    },
    {
      "cell_type": "markdown",
      "source": [
        "Model Evaluation"
      ],
      "metadata": {
        "id": "cIhecREwpa3t"
      }
    },
    {
      "cell_type": "code",
      "source": [
        "import matplotlib.pyplot as plt\n",
        "acc = history.history['accuracy']\n",
        "val_acc = history.history['val_accuracy']\n",
        "loss = history.history['loss']\n",
        "val_loss = history.history['val_loss']\n",
        "\n",
        "epochs = range(len(acc))\n",
        "\n",
        "plt.plot(epochs, acc, 'bo', label='Training accuracy')\n",
        "plt.plot(epochs, val_acc, 'b', label='Validation accuracy')\n",
        "plt.title('Training and validation accuracy')\n",
        "\n",
        "plt.figure()\n",
        "\n",
        "plt.plot(epochs, loss, 'bo', label='Training Loss')\n",
        "plt.plot(epochs, val_loss, 'b', label='Validation Loss')\n",
        "plt.title('Training and validation loss')\n",
        "plt.legend()\n",
        "\n",
        "plt.show()"
      ],
      "metadata": {
        "id": "-2B8tCRppXt2",
        "colab": {
          "base_uri": "https://localhost:8080/",
          "height": 551
        },
        "outputId": "c86e612f-6d62-405e-e1b4-782c3071877e"
      },
      "execution_count": 57,
      "outputs": [
        {
          "output_type": "display_data",
          "data": {
            "image/png": "[encoded data removed]",
            "text/plain": [
              "<Figure size 432x288 with 1 Axes>"
            ]
          },
          "metadata": {}
        },
        {
          "output_type": "display_data",
          "data": {
            "image/png": "[encoded data removed]",
            "text/plain": [
              "<Figure size 432x288 with 1 Axes>"
            ]
          },
          "metadata": {}
        }
      ]
    },
    {
      "cell_type": "code",
      "source": [
        "# import some of library that we need to look the confusion matrix, recall, f1_score, and accuracy score to look how much your model is well\n",
        "import numpy as np \n",
        "from keras.preprocessing.image import ImageDataGenerator\n",
        "import matplotlib.pyplot as plt\n",
        "from sklearn.metrics import f1_score, recall_score, accuracy_score\n",
        "from sklearn.metrics import precision_score, confusion_matrix, classification_report\n",
        "from sklearn import metrics\n",
        "\n",
        "import seaborn as sns\n",
        "sns.set(style='whitegrid')"
      ],
      "metadata": {
        "id": "X5uCatTrpeBj"
      },
      "execution_count": 58,
      "outputs": []
    },
    {
      "cell_type": "code",
      "source": [
        "# loading model to evaluate more depth\n",
        "from keras.models import load_model\n",
        "model_path = '/content/drive/MyDrive/Colab Notebooks/Modul Kecerdasan Buatan /model_drop_batch_weight_from_callback_2.h5'\n",
        "model = load_model(model_path)"
      ],
      "metadata": {
        "id": "jdre7VdppnC6"
      },
      "execution_count": 59,
      "outputs": []
    },
    {
      "cell_type": "code",
      "source": [
        "def my_metrics(y_true, y_pred):\n",
        "    accuracy=accuracy_score(y_true, y_pred)\n",
        "    precision=precision_score(y_true, y_pred,average='weighted')\n",
        "    f1Score=f1_score(y_true, y_pred, average='weighted') \n",
        "    print(\"Accuracy  : {}\".format(accuracy))\n",
        "    print(\"Precision : {}\".format(precision))\n",
        "    print(\"f1Score : {}\".format(f1Score))\n",
        "    cm=confusion_matrix(y_true, y_pred)\n",
        "    print(cm)\n",
        "    return accuracy, precision, f1Score\n",
        "\n",
        "height=224; width=224\n",
        "batch_size=32\n",
        "\n",
        "test_datagen = ImageDataGenerator(rescale=1./255)\n",
        "\n",
        "TESTING_DIR = '/tmp/Datasets/Testing'\n",
        "\n",
        "test_generator = test_datagen.flow_from_directory(TESTING_DIR,\n",
        "                                                  batch_size=batch_size,                                                             \n",
        "                                                  target_size=(height, width),\n",
        "                                                  class_mode= None,\n",
        "                                                  shuffle=False\n",
        "                                                  )\n",
        "\n",
        "predictions = model.predict(test_generator, verbose=1)\n",
        "yPredictions = np.argmax(predictions, axis=1)\n",
        "true_classes = test_generator.classes\n",
        "class_names = test_generator.class_indices\n",
        "Cmatrix_test = confusion_matrix(true_classes, yPredictions)\n",
        "\n",
        "testAcc,testPrec, testFScore = my_metrics(true_classes, yPredictions)\n",
        "\n",
        "plt.figure(figsize=(20,20))\n",
        "ax= plt.subplot()\n",
        "data = np.asarray(Cmatrix_test).reshape(4,4)\n",
        "sns.heatmap(data,annot=True, fmt='',ax=ax, cmap=plt.cm.Reds)\n",
        "ax.set_xlabel('Predicted labels')\n",
        "ax.set_ylabel('True labels') \n",
        "ax.set_title('Confusion Matrix')\n",
        "ax.xaxis.set_ticklabels(class_names)   \n",
        "ax.yaxis.set_ticklabels(class_names)\n",
        "plt.title('Confusion Matrix Test',fontsize=14)\n",
        "plt.show()"
      ],
      "metadata": {
        "id": "asQ5rNVIpqPa",
        "colab": {
          "base_uri": "https://localhost:8080/",
          "height": 1000
        },
        "outputId": "4e409a6d-e56f-40b2-c912-791d48f0731e"
      },
      "execution_count": 60,
      "outputs": [
        {
          "output_type": "stream",
          "name": "stdout",
          "text": [
            "Found 16 images belonging to 4 classes.\n",
            "1/1 [==============================] - 0s 258ms/step\n",
            "Accuracy  : 1.0\n",
            "Precision : 1.0\n",
            "f1Score : 1.0\n",
            "[[4 0 0 0]\n",
            " [0 4 0 0]\n",
            " [0 0 4 0]\n",
            " [0 0 0 4]]\n"
          ]
        },
        {
          "output_type": "display_data",
          "data": {
            "image/png": "[encoded data removed]",
            "text/plain": [
              "<Figure size 1440x1440 with 2 Axes>"
            ]
          },
          "metadata": {}
        }
      ]
    },
    {
      "cell_type": "code",
      "source": [
        "from sklearn.metrics import classification_report\n",
        "print(classification_report(true_classes, yPredictions, target_names=class_names))"
      ],
      "metadata": {
        "id": "Fo0mbZPMpsDH",
        "colab": {
          "base_uri": "https://localhost:8080/"
        },
        "outputId": "3b41675f-0c4c-42de-ec55-5d75c484aff0"
      },
      "execution_count": 61,
      "outputs": [
        {
          "output_type": "stream",
          "name": "stdout",
          "text": [
            "                           precision    recall  f1-score   support\n",
            "\n",
            "       Apple___Apple_scab       1.00      1.00      1.00         4\n",
            "        Apple___Black_rot       1.00      1.00      1.00         4\n",
            "Apple___Ceddar_apple_rust       1.00      1.00      1.00         4\n",
            "          Apple___healthy       1.00      1.00      1.00         4\n",
            "\n",
            "                 accuracy                           1.00        16\n",
            "                macro avg       1.00      1.00      1.00        16\n",
            "             weighted avg       1.00      1.00      1.00        16\n",
            "\n"
          ]
        }
      ]
    }
  ]
}